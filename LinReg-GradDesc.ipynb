{
 "cells": [
  {
   "cell_type": "code",
   "execution_count": 1,
   "id": "098722a6-d56f-4c52-8b59-22c1a7984c3d",
   "metadata": {
    "tags": []
   },
   "outputs": [],
   "source": [
    "import numpy as np\n",
    "import torch"
   ]
  },
  {
   "cell_type": "code",
   "execution_count": 3,
   "id": "2f21849b-adf6-45ee-adb6-dca42107bd58",
   "metadata": {
    "tags": []
   },
   "outputs": [
    {
     "name": "stdout",
     "output_type": "stream",
     "text": [
      "[[ 73.  67.  43.]\n",
      " [ 91.  88.  64.]\n",
      " [ 87. 134.  58.]\n",
      " [102.  43.  37.]\n",
      " [ 69.  96.  70.]]\n"
     ]
    }
   ],
   "source": [
    "inputs = np.array([[73, 67, 43],[91, 88, 64],[87, 134, 58],[102, 43, 37],[69, 96,70]], dtype = 'float32')\n",
    "print(inputs)"
   ]
  },
  {
   "cell_type": "code",
   "execution_count": 4,
   "id": "1547eaf4-91c8-44d3-9293-fc3653472dec",
   "metadata": {
    "tags": []
   },
   "outputs": [
    {
     "name": "stdout",
     "output_type": "stream",
     "text": [
      "[[ 56.  70.]\n",
      " [ 81. 101.]\n",
      " [119. 133.]\n",
      " [ 22.  37.]\n",
      " [103. 119.]]\n"
     ]
    }
   ],
   "source": [
    "targets = np.array([[56, 70], [81, 101], [119, 133], [22, 37], [103, 119]], dtype = 'float32')\n",
    "print(targets)"
   ]
  },
  {
   "cell_type": "code",
   "execution_count": 5,
   "id": "6d53a892-f1eb-4f37-8eb8-c27dfca91acb",
   "metadata": {
    "tags": []
   },
   "outputs": [
    {
     "name": "stdout",
     "output_type": "stream",
     "text": [
      "tensor([[ 73.,  67.,  43.],\n",
      "        [ 91.,  88.,  64.],\n",
      "        [ 87., 134.,  58.],\n",
      "        [102.,  43.,  37.],\n",
      "        [ 69.,  96.,  70.]])\n",
      "tensor([[ 56.,  70.],\n",
      "        [ 81., 101.],\n",
      "        [119., 133.],\n",
      "        [ 22.,  37.],\n",
      "        [103., 119.]])\n"
     ]
    }
   ],
   "source": [
    "#convert from numpy to tensors\n",
    "inputs = torch.from_numpy(inputs)\n",
    "targets = torch.from_numpy(targets)\n",
    "print(inputs)\n",
    "print(targets)"
   ]
  },
  {
   "cell_type": "markdown",
   "id": "b55fcc55-572c-4760-b851-5dc7fb2a2a86",
   "metadata": {},
   "source": [
    "### Linear Regression Model"
   ]
  },
  {
   "cell_type": "code",
   "execution_count": 9,
   "id": "d78969f0-fa0f-4136-b059-57cbaa1d6680",
   "metadata": {
    "tags": []
   },
   "outputs": [
    {
     "name": "stdout",
     "output_type": "stream",
     "text": [
      "tensor([[ 1.0288,  0.0581, -0.7555],\n",
      "        [-1.0819,  1.8592, -1.1363]], requires_grad=True)\n",
      "tensor([-0.1646, -0.4856], requires_grad=True)\n"
     ]
    }
   ],
   "source": [
    "#Weights and Biases\n",
    "w = torch.randn(2, 3, requires_grad = True)\n",
    "b = torch.randn(2, requires_grad = True)\n",
    "print(w)\n",
    "print(b)\n",
    "#randn = rand + n (n denotes normal distribution)"
   ]
  },
  {
   "cell_type": "code",
   "execution_count": 10,
   "id": "1cda7ced-6b07-4d5a-bc64-20558f299d7b",
   "metadata": {
    "tags": []
   },
   "outputs": [],
   "source": [
    "def model(x):\n",
    "    return x @ w.t() + b\n",
    "#@ -> matmul, w.t -> transpose"
   ]
  },
  {
   "cell_type": "code",
   "execution_count": 11,
   "id": "17ba04a5-2fb9-44ec-b8d9-82cef3c78785",
   "metadata": {
    "tags": []
   },
   "outputs": [
    {
     "name": "stdout",
     "output_type": "stream",
     "text": [
      "tensor([[ 46.3408,  -3.7578],\n",
      "        [ 50.2129,  -8.0508],\n",
      "        [ 53.3037,  88.6191],\n",
      "        [ 79.3132, -72.9366],\n",
      "        [ 23.5120,  23.8070]], grad_fn=<AddBackward0>)\n"
     ]
    }
   ],
   "source": [
    "preds = model(inputs)\n",
    "print(preds)"
   ]
  },
  {
   "cell_type": "code",
   "execution_count": 12,
   "id": "9605b967-21f7-4b26-a3c7-a56c5cce523c",
   "metadata": {
    "tags": []
   },
   "outputs": [
    {
     "name": "stdout",
     "output_type": "stream",
     "text": [
      "tensor([[ 56.,  70.],\n",
      "        [ 81., 101.],\n",
      "        [119., 133.],\n",
      "        [ 22.,  37.],\n",
      "        [103., 119.]])\n"
     ]
    }
   ],
   "source": [
    "print(targets)"
   ]
  },
  {
   "cell_type": "code",
   "execution_count": 13,
   "id": "4ab568d1-d57c-4b20-92be-6b26a832bccb",
   "metadata": {
    "tags": []
   },
   "outputs": [],
   "source": [
    "def mse(t1,t2):\n",
    "    diff = t1 - t2\n",
    "    return torch.sum(diff*diff)/diff.numel()"
   ]
  },
  {
   "cell_type": "code",
   "execution_count": 14,
   "id": "a33095e7-4722-4cf9-bea4-19e1d3984c2f",
   "metadata": {
    "tags": []
   },
   "outputs": [
    {
     "name": "stdout",
     "output_type": "stream",
     "text": [
      "tensor(5541.0029, grad_fn=<DivBackward0>)\n"
     ]
    }
   ],
   "source": [
    "loss = mse(preds, targets)\n",
    "print(loss)"
   ]
  },
  {
   "cell_type": "code",
   "execution_count": 15,
   "id": "63bd9936-8796-4af3-bc0b-69da913ff767",
   "metadata": {
    "tags": []
   },
   "outputs": [],
   "source": [
    "loss.backward()"
   ]
  },
  {
   "cell_type": "code",
   "execution_count": 16,
   "id": "38a84126-35eb-4439-b675-dadac573bdb6",
   "metadata": {
    "tags": []
   },
   "outputs": [
    {
     "name": "stdout",
     "output_type": "stream",
     "text": [
      "tensor([[ 1.0288,  0.0581, -0.7555],\n",
      "        [-1.0819,  1.8592, -1.1363]], requires_grad=True)\n",
      "tensor([[-1772.2100, -3465.2231, -1927.9354],\n",
      "        [-7390.1875, -6870.2173, -4691.2192]])\n"
     ]
    }
   ],
   "source": [
    "print(w)\n",
    "print(w.grad)"
   ]
  },
  {
   "cell_type": "code",
   "execution_count": 19,
   "id": "ec629611-e01a-4db0-a639-92e3014d2296",
   "metadata": {
    "tags": []
   },
   "outputs": [],
   "source": [
    "with torch.no_grad():\n",
    "    w -= w.grad * 1e-5\n",
    "    b -= b.grad * 1e-5\n",
    "    w.grad.zero_()\n",
    "    b.grad.zero_()"
   ]
  },
  {
   "cell_type": "code",
   "execution_count": 20,
   "id": "42fa3165-6abe-4dda-b289-1ba631f7410a",
   "metadata": {
    "tags": []
   },
   "outputs": [
    {
     "name": "stdout",
     "output_type": "stream",
     "text": [
      "tensor([[ 59.6746,  32.2893],\n",
      "        [ 67.9014,  39.2706],\n",
      "        [ 75.2145, 143.6902],\n",
      "        [ 91.3469, -36.2511],\n",
      "        [ 41.2095,  68.7443]], grad_fn=<AddBackward0>)\n"
     ]
    }
   ],
   "source": [
    "preds = model(inputs)\n",
    "print(preds)"
   ]
  },
  {
   "cell_type": "code",
   "execution_count": 21,
   "id": "798f8040-26ee-4a0a-a808-0a9e0fe721a3",
   "metadata": {
    "tags": []
   },
   "outputs": [
    {
     "name": "stdout",
     "output_type": "stream",
     "text": [
      "tensor(2396.7563, grad_fn=<DivBackward0>)\n"
     ]
    }
   ],
   "source": [
    "loss = mse(preds, targets)\n",
    "print(loss)"
   ]
  },
  {
   "cell_type": "code",
   "execution_count": 22,
   "id": "a7f3092f-1852-404d-990c-8dd942deca57",
   "metadata": {
    "tags": []
   },
   "outputs": [
    {
     "name": "stdout",
     "output_type": "stream",
     "text": [
      "tensor([[ -384.6465, -1944.7421,  -995.8730],\n",
      "        [-3675.8936, -2900.1326, -2236.0803]])\n",
      "tensor([ -9.1306, -42.4514])\n"
     ]
    }
   ],
   "source": [
    "loss.backward()\n",
    "print(w.grad)\n",
    "print(b.grad)"
   ]
  },
  {
   "cell_type": "code",
   "execution_count": 36,
   "id": "a7c7da28-8a21-452c-afae-37628b08d074",
   "metadata": {
    "tags": []
   },
   "outputs": [],
   "source": [
    "for i in range(100000):\n",
    "    preds  = model(inputs)\n",
    "    loss = mse(preds, targets)\n",
    "    loss.backward()\n",
    "    with torch.no_grad():\n",
    "        w -= w.grad*1e-5\n",
    "        b -= b.grad*1e-5\n",
    "        w.grad.zero_()\n",
    "        b.grad.zero_()"
   ]
  },
  {
   "cell_type": "code",
   "execution_count": 37,
   "id": "664bc1e2-83a4-4d91-bc23-97abde397073",
   "metadata": {
    "tags": []
   },
   "outputs": [
    {
     "name": "stdout",
     "output_type": "stream",
     "text": [
      "tensor(0.5041, grad_fn=<DivBackward0>)\n"
     ]
    }
   ],
   "source": [
    "preds = model(inputs)\n",
    "loss = mse(preds, targets)\n",
    "print(loss)"
   ]
  },
  {
   "cell_type": "code",
   "execution_count": 38,
   "id": "ac7f5077-354e-4fe1-bd1d-45b6daf05ba3",
   "metadata": {
    "tags": []
   },
   "outputs": [
    {
     "name": "stdout",
     "output_type": "stream",
     "text": [
      "tensor([[ 57.1347,  70.2278],\n",
      "        [ 82.2259, 100.7211],\n",
      "        [118.6981, 132.9718],\n",
      "        [ 21.0852,  37.0254],\n",
      "        [101.9156, 119.1249]], grad_fn=<AddBackward0>)\n"
     ]
    }
   ],
   "source": [
    "print(preds)"
   ]
  },
  {
   "cell_type": "code",
   "execution_count": 39,
   "id": "495f42ac-8840-417f-abdc-7b7c23f9300b",
   "metadata": {
    "tags": []
   },
   "outputs": [],
   "source": [
    "#That was cool!"
   ]
  },
  {
   "cell_type": "code",
   "execution_count": 40,
   "id": "10c72868-037b-4f51-9a18-1e8ee705ed9e",
   "metadata": {
    "tags": []
   },
   "outputs": [],
   "source": [
    "import torch.nn as nn"
   ]
  },
  {
   "cell_type": "code",
   "execution_count": 41,
   "id": "bc3bfd99-24ed-40e1-9536-bf3a3b321881",
   "metadata": {
    "tags": []
   },
   "outputs": [],
   "source": [
    "inputs = np.array([[73, 67, 43], \n",
    "                   [91, 88, 64], \n",
    "                   [87, 134, 58], \n",
    "                   [102, 43, 37], \n",
    "                   [69, 96, 70], \n",
    "                   [74, 66, 43], \n",
    "                   [91, 87, 65], \n",
    "                   [88, 134, 59], \n",
    "                   [101, 44, 37], \n",
    "                   [68, 96, 71], \n",
    "                   [73, 66, 44], \n",
    "                   [92, 87, 64], \n",
    "                   [87, 135, 57], \n",
    "                   [103, 43, 36], \n",
    "                   [68, 97, 70]], \n",
    "                  dtype='float32')\n",
    "\n",
    "# Targets (apples, oranges)\n",
    "targets = np.array([[56, 70], \n",
    "                    [81, 101], \n",
    "                    [119, 133], \n",
    "                    [22, 37], \n",
    "                    [103, 119],\n",
    "                    [57, 69], \n",
    "                    [80, 102], \n",
    "                    [118, 132], \n",
    "                    [21, 38], \n",
    "                    [104, 118], \n",
    "                    [57, 69], \n",
    "                    [82, 100], \n",
    "                    [118, 134], \n",
    "                    [20, 38], \n",
    "                    [102, 120]], \n",
    "                   dtype='float32')\n",
    "\n",
    "inputs = torch.from_numpy(inputs)\n",
    "targets = torch.from_numpy(targets)"
   ]
  },
  {
   "cell_type": "code",
   "execution_count": 42,
   "id": "62d6411f-bd39-4931-a470-48b3b96287c5",
   "metadata": {
    "tags": []
   },
   "outputs": [],
   "source": [
    "from torch.utils.data import TensorDataset"
   ]
  },
  {
   "cell_type": "code",
   "execution_count": 43,
   "id": "2aea1010-2e0c-41f6-aaa2-b407f907727b",
   "metadata": {
    "tags": []
   },
   "outputs": [
    {
     "data": {
      "text/plain": [
       "(tensor([[ 73.,  67.,  43.],\n",
       "         [ 91.,  88.,  64.],\n",
       "         [ 87., 134.,  58.]]),\n",
       " tensor([[ 56.,  70.],\n",
       "         [ 81., 101.],\n",
       "         [119., 133.]]))"
      ]
     },
     "execution_count": 43,
     "metadata": {},
     "output_type": "execute_result"
    }
   ],
   "source": [
    "train_ds = TensorDataset(inputs, targets)\n",
    "train_ds[0:3]"
   ]
  },
  {
   "cell_type": "code",
   "execution_count": 44,
   "id": "3c11318a-e516-45b4-a492-cd63361eca4f",
   "metadata": {
    "tags": []
   },
   "outputs": [],
   "source": [
    "from torch.utils.data import DataLoader"
   ]
  },
  {
   "cell_type": "code",
   "execution_count": 45,
   "id": "77304427-835a-47b5-bffd-67a7f8cb2407",
   "metadata": {
    "tags": []
   },
   "outputs": [],
   "source": [
    "batch_size = 5\n",
    "train_dl = DataLoader(train_ds, batch_size, shuffle = True)"
   ]
  },
  {
   "cell_type": "code",
   "execution_count": 46,
   "id": "fb618c40-b366-4115-9aa4-0a0c0dedaca0",
   "metadata": {
    "tags": []
   },
   "outputs": [
    {
     "name": "stdout",
     "output_type": "stream",
     "text": [
      "tensor([[91., 88., 64.],\n",
      "        [91., 87., 65.],\n",
      "        [68., 96., 71.],\n",
      "        [92., 87., 64.],\n",
      "        [68., 97., 70.]])\n",
      "tensor([[ 81., 101.],\n",
      "        [ 80., 102.],\n",
      "        [104., 118.],\n",
      "        [ 82., 100.],\n",
      "        [102., 120.]])\n"
     ]
    }
   ],
   "source": [
    "for xb, yb in train_dl:\n",
    "    print(xb)\n",
    "    print(yb)\n",
    "    break"
   ]
  },
  {
   "cell_type": "code",
   "execution_count": 48,
   "id": "31e18451-6a7b-4f59-a390-b7c55fe2f638",
   "metadata": {
    "tags": []
   },
   "outputs": [
    {
     "name": "stdout",
     "output_type": "stream",
     "text": [
      "Parameter containing:\n",
      "tensor([[ 0.4496,  0.3685, -0.5512],\n",
      "        [-0.2846, -0.4308,  0.2423]], requires_grad=True)\n",
      "Parameter containing:\n",
      "tensor([ 0.3954, -0.5631], requires_grad=True)\n"
     ]
    }
   ],
   "source": [
    "#Pytorch model\n",
    "model = nn.Linear(3,2)\n",
    "print(model.weight)\n",
    "print(model.bias)"
   ]
  },
  {
   "cell_type": "code",
   "execution_count": 49,
   "id": "19c11acd-ff19-4e17-b98b-fd4e0e4cce13",
   "metadata": {
    "tags": []
   },
   "outputs": [
    {
     "data": {
      "text/plain": [
       "[Parameter containing:\n",
       " tensor([[ 0.4496,  0.3685, -0.5512],\n",
       "         [-0.2846, -0.4308,  0.2423]], requires_grad=True),\n",
       " Parameter containing:\n",
       " tensor([ 0.3954, -0.5631], requires_grad=True)]"
      ]
     },
     "execution_count": 49,
     "metadata": {},
     "output_type": "execute_result"
    }
   ],
   "source": [
    "list(model.parameters())"
   ]
  },
  {
   "cell_type": "code",
   "execution_count": 50,
   "id": "ac3728bd-f1f4-4fce-9a02-58bb220706b2",
   "metadata": {
    "tags": []
   },
   "outputs": [
    {
     "data": {
      "text/plain": [
       "tensor([[ 34.1991, -39.7854],\n",
       "        [ 38.4535, -48.8671],\n",
       "        [ 56.9132, -69.0008],\n",
       "        [ 41.7000, -39.1530],\n",
       "        [ 28.2037, -44.5985],\n",
       "        [ 34.2802, -39.6392],\n",
       "        [ 37.5338, -48.1940],\n",
       "        [ 56.8116, -69.0431],\n",
       "        [ 41.6190, -39.2992],\n",
       "        [ 27.2029, -44.0716],\n",
       "        [ 33.2794, -39.1123],\n",
       "        [ 38.5346, -48.7209],\n",
       "        [ 57.8330, -69.6739],\n",
       "        [ 42.7008, -39.6799],\n",
       "        [ 28.1226, -44.7447]], grad_fn=<AddmmBackward0>)"
      ]
     },
     "execution_count": 50,
     "metadata": {},
     "output_type": "execute_result"
    }
   ],
   "source": [
    "preds = model(inputs)\n",
    "preds"
   ]
  },
  {
   "cell_type": "code",
   "execution_count": 51,
   "id": "ce184ec6-5001-467d-b606-88fbb2236642",
   "metadata": {
    "tags": []
   },
   "outputs": [],
   "source": [
    "import torch.nn.functional as F"
   ]
  },
  {
   "cell_type": "code",
   "execution_count": 52,
   "id": "3089a5a2-243f-4a7e-bc9f-1639b7625fc0",
   "metadata": {
    "tags": []
   },
   "outputs": [],
   "source": [
    "loss_fn = F.mse_loss"
   ]
  },
  {
   "cell_type": "code",
   "execution_count": 53,
   "id": "890da9bf-35db-41ef-9cd8-87b18b0eb6d9",
   "metadata": {
    "tags": []
   },
   "outputs": [
    {
     "name": "stdout",
     "output_type": "stream",
     "text": [
      "tensor(11997.3750, grad_fn=<MseLossBackward0>)\n"
     ]
    }
   ],
   "source": [
    "loss = loss_fn(model(inputs), targets)\n",
    "print(loss)"
   ]
  },
  {
   "cell_type": "code",
   "execution_count": 54,
   "id": "751db3d5-8ed5-4003-85ff-515d1f0f7486",
   "metadata": {
    "tags": []
   },
   "outputs": [],
   "source": [
    "#Define optimizer\n",
    "opt = torch.optim.SGD(model.parameters(), lr = 1e-5)"
   ]
  },
  {
   "cell_type": "code",
   "execution_count": 57,
   "id": "5c5536ae-94c9-4e7e-859c-7d2d596b9a35",
   "metadata": {
    "tags": []
   },
   "outputs": [],
   "source": [
    "def fit(num_epochs, model, loss_fn, opt, train_dl):\n",
    "    for epoch in range(num_epochs):\n",
    "        for xb, yb in train_dl:\n",
    "            pred = model(xb)\n",
    "            loss = loss_fn(pred, yb)\n",
    "            loss.backward()\n",
    "            opt.step()\n",
    "            opt.zero_grad()\n",
    "        if (epoch + 1) % 10 == 0:\n",
    "            print('Epoch [{}/{}], Loss : {:.4f}'.format(epoch + 1, num_epochs, loss.item()))"
   ]
  },
  {
   "cell_type": "code",
   "execution_count": 58,
   "id": "dd1efc40-4286-40e0-9e65-ee0d27dd5ad4",
   "metadata": {
    "tags": []
   },
   "outputs": [
    {
     "name": "stdout",
     "output_type": "stream",
     "text": [
      "Epoch [10/100], Loss : 1068.8104\n",
      "Epoch [20/100], Loss : 267.3980\n",
      "Epoch [30/100], Loss : 231.0134\n",
      "Epoch [40/100], Loss : 130.6601\n",
      "Epoch [50/100], Loss : 57.0788\n",
      "Epoch [60/100], Loss : 59.5198\n",
      "Epoch [70/100], Loss : 88.8360\n",
      "Epoch [80/100], Loss : 63.6738\n",
      "Epoch [90/100], Loss : 47.3811\n",
      "Epoch [100/100], Loss : 27.5741\n"
     ]
    }
   ],
   "source": [
    "fit(100, model, loss_fn, opt, train_dl)"
   ]
  },
  {
   "cell_type": "code",
   "execution_count": 59,
   "id": "ec8d2902-f259-46bf-86da-6d00146bde75",
   "metadata": {
    "tags": []
   },
   "outputs": [
    {
     "data": {
      "text/plain": [
       "tensor([[ 58.8129,  71.2625],\n",
       "        [ 77.0649, 100.4830],\n",
       "        [126.3420, 131.1006],\n",
       "        [ 30.7550,  43.6114],\n",
       "        [ 87.5087, 114.9070],\n",
       "        [ 57.6472,  70.3411],\n",
       "        [ 75.9319, 100.5126],\n",
       "        [126.1442, 131.7150],\n",
       "        [ 31.9207,  44.5328],\n",
       "        [ 87.5415, 115.8580],\n",
       "        [ 57.6799,  71.2921],\n",
       "        [ 75.8992,  99.5616],\n",
       "        [127.4750, 131.0710],\n",
       "        [ 30.7223,  42.6603],\n",
       "        [ 88.6744, 115.8284]], grad_fn=<AddmmBackward0>)"
      ]
     },
     "execution_count": 59,
     "metadata": {},
     "output_type": "execute_result"
    }
   ],
   "source": [
    "#Generate Predicitions\n",
    "preds = model(inputs)\n",
    "preds"
   ]
  },
  {
   "cell_type": "code",
   "execution_count": null,
   "id": "6473660e-343d-47d6-b685-6fe150a70673",
   "metadata": {},
   "outputs": [],
   "source": []
  }
 ],
 "metadata": {
  "kernelspec": {
   "display_name": "Python 3 (ipykernel)",
   "language": "python",
   "name": "python3"
  },
  "language_info": {
   "codemirror_mode": {
    "name": "ipython",
    "version": 3
   },
   "file_extension": ".py",
   "mimetype": "text/x-python",
   "name": "python",
   "nbconvert_exporter": "python",
   "pygments_lexer": "ipython3",
   "version": "3.9.0"
  }
 },
 "nbformat": 4,
 "nbformat_minor": 5
}
