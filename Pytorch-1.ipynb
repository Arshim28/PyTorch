{
 "cells": [
  {
   "cell_type": "code",
   "execution_count": 2,
   "id": "cb4cd6b7-9cc3-4aaa-921d-72b88a7fd292",
   "metadata": {
    "tags": []
   },
   "outputs": [],
   "source": [
    "import torch\n",
    "import numpy as np\n",
    "import matplotlib.pyplot as plt\n",
    "import seaborn as sns\n",
    "import pandas as pd\n",
    "import math\n",
    "import string"
   ]
  },
  {
   "cell_type": "code",
   "execution_count": 5,
   "id": "6a6de9a7-9484-4c04-81ca-e1c31b251894",
   "metadata": {
    "tags": []
   },
   "outputs": [
    {
     "data": {
      "text/plain": [
       "(tensor(3.), tensor(4., requires_grad=True), tensor(5., requires_grad=True))"
      ]
     },
     "execution_count": 5,
     "metadata": {},
     "output_type": "execute_result"
    }
   ],
   "source": [
    "w = torch.tensor(4., requires_grad = True)\n",
    "b = torch.tensor(5., requires_grad = True)\n",
    "x = torch.tensor(3.)\n",
    "x,w,b"
   ]
  },
  {
   "cell_type": "code",
   "execution_count": 6,
   "id": "dd37d123-705a-43d8-9954-4ca913a1ba61",
   "metadata": {
    "tags": []
   },
   "outputs": [
    {
     "data": {
      "text/plain": [
       "tensor(17., grad_fn=<AddBackward0>)"
      ]
     },
     "execution_count": 6,
     "metadata": {},
     "output_type": "execute_result"
    }
   ],
   "source": [
    "y = w*x + b\n",
    "y"
   ]
  },
  {
   "cell_type": "code",
   "execution_count": 7,
   "id": "4e53fb5f-06b0-4fff-8eda-75ef145f9e3c",
   "metadata": {
    "tags": []
   },
   "outputs": [],
   "source": [
    "y.backward()"
   ]
  },
  {
   "cell_type": "code",
   "execution_count": 12,
   "id": "6d037e6e-7a51-4eff-a365-36f53d532688",
   "metadata": {
    "tags": []
   },
   "outputs": [
    {
     "name": "stdout",
     "output_type": "stream",
     "text": [
      "dy/dx: None\n",
      "dy/dw: tensor(3.)\n",
      "dy/db: tensor(1.)\n"
     ]
    }
   ],
   "source": [
    "print('dy/dx:', x.grad)\n",
    "print('dy/dw:', w.grad)\n",
    "print('dy/db:', b.grad)\n",
    "\n",
    "#x.grad is none because x did not have requires_grad = true"
   ]
  },
  {
   "cell_type": "markdown",
   "id": "2259f851-85c7-44da-a078-f2d20aae00b5",
   "metadata": {},
   "source": [
    "## Tensor Linear Algebra"
   ]
  },
  {
   "cell_type": "code",
   "execution_count": 14,
   "id": "a11121bb-c42f-4875-870c-07909c476ce1",
   "metadata": {
    "tags": []
   },
   "outputs": [
    {
     "name": "stdout",
     "output_type": "stream",
     "text": [
      "tensor([-0.8848, -1.1190,  0.1527]) tensor([-0.7920, -1.2854,  1.0164]) tensor(2.2943)\n"
     ]
    }
   ],
   "source": [
    "#vector x vector\n",
    "tensor1 = torch.randn(3)\n",
    "tensor2 = torch.randn(3)\n",
    "tensor_mul = torch.matmul(tensor1, tensor2)\n",
    "print(tensor1, tensor2, tensor_mul)"
   ]
  },
  {
   "cell_type": "code",
   "execution_count": 16,
   "id": "8bb4e6f7-0a74-40c4-b4e1-d6f2059581d3",
   "metadata": {
    "tags": []
   },
   "outputs": [
    {
     "name": "stdout",
     "output_type": "stream",
     "text": [
      "tensor([[-0.5227,  0.7067,  3.0799, -0.2249],\n",
      "        [-1.5688, -0.6236, -0.0922,  0.6225],\n",
      "        [ 0.5522,  0.2804, -0.8742, -0.3212]]) tensor([-0.7384, -0.8211, -0.7573, -0.4947]) tensor([-2.4155,  1.4323,  0.1829])\n"
     ]
    }
   ],
   "source": [
    "#matrix x vector\n",
    "tensor1 = torch.randn(3, 4)\n",
    "tensor2 = torch.randn(4)\n",
    "tensor_mul = torch.matmul(tensor1, tensor2)\n",
    "print(tensor1, tensor2, tensor_mul)"
   ]
  },
  {
   "cell_type": "code",
   "execution_count": 17,
   "id": "adf0525a-6a13-4bed-ad5e-fc01245e4e93",
   "metadata": {
    "tags": []
   },
   "outputs": [
    {
     "name": "stdout",
     "output_type": "stream",
     "text": [
      "tensor([[[-0.7221, -0.6418,  0.3528, -1.2022],\n",
      "         [ 0.2008, -0.5134,  0.0768,  1.2635],\n",
      "         [-0.0690,  1.9951,  0.0078,  0.5546]],\n",
      "\n",
      "        [[-1.1451, -0.7529,  0.4835,  0.4306],\n",
      "         [ 0.3522,  1.5214,  1.4959, -0.4116],\n",
      "         [-0.9038,  0.2588,  1.1083, -0.0614]],\n",
      "\n",
      "        [[ 0.3209,  0.8080, -0.4592, -0.6854],\n",
      "         [ 1.0170,  0.5262,  0.2775,  1.7900],\n",
      "         [ 0.6783, -1.3076, -0.8065, -0.1680]],\n",
      "\n",
      "        [[-0.6356,  0.0795,  0.4671, -0.3999],\n",
      "         [ 0.3696, -1.6779, -0.6771, -1.0361],\n",
      "         [ 0.0644, -0.2453,  1.2481, -2.0042]],\n",
      "\n",
      "        [[-0.6787,  0.5219,  1.2341,  0.1921],\n",
      "         [-0.0883, -1.2737, -0.1289,  0.4697],\n",
      "         [ 1.2984, -1.4054,  0.4335, -1.3861]]]) tensor([-1.2493e+00,  6.2658e-04, -6.5833e-01,  6.5180e-01]) tensor([[-0.1141,  0.5218,  0.4437],\n",
      "        [ 1.3924, -1.6921,  0.3596],\n",
      "        [-0.5448, -0.2862, -0.4268],\n",
      "        [ 0.2260, -0.6924, -2.2087],\n",
      "        [ 0.1610,  0.5005, -2.8118]])\n"
     ]
    }
   ],
   "source": [
    "#batched_matrix x broadcasted_vector\n",
    "tensor1 = torch.randn(5, 3, 4)\n",
    "tensor2 = torch.randn(4)\n",
    "tensor_mul = torch.matmul(tensor1, tensor2)\n",
    "print(tensor1, tensor2, tensor_mul)"
   ]
  },
  {
   "cell_type": "code",
   "execution_count": 24,
   "id": "d4c045ec-f11d-40d9-b9f8-df7715654523",
   "metadata": {
    "tags": []
   },
   "outputs": [
    {
     "name": "stdout",
     "output_type": "stream",
     "text": [
      "tensor([[[-0.3565, -0.1961,  0.4234, -0.0410],\n",
      "         [ 0.0065,  0.1008,  0.4682,  0.3535],\n",
      "         [-1.1407,  0.2230, -1.8468,  1.3114]],\n",
      "\n",
      "        [[ 0.7479,  0.0041, -1.2331,  1.4438],\n",
      "         [-1.2660,  1.8907, -0.8328, -1.0041],\n",
      "         [-1.9924, -1.0461,  0.2423, -0.4344]]])\n",
      "tensor([[[ 1.2301,  0.8628,  1.0071,  1.3859, -0.2916, -0.1723],\n",
      "         [ 0.1275,  0.1511,  0.1656, -0.0475,  0.1431, -1.3835],\n",
      "         [ 0.1099, -0.3227,  0.1750,  0.3990,  0.1452,  1.5474],\n",
      "         [-0.7406, -0.6928,  0.8455, -0.4754,  0.2976, -0.4118]],\n",
      "\n",
      "        [[-2.0113,  0.4166, -1.1291,  1.9896, -0.8894,  1.0246],\n",
      "         [-0.8220, -0.7206, -1.6356, -0.8284,  0.3835, -0.9911],\n",
      "         [-1.0823,  0.6986,  0.5274,  1.1678,  2.8210, -0.8731],\n",
      "         [ 1.5473, -1.7304, -1.6937, -1.4918,  0.4025,  0.9816]]])\n",
      "tensor([[[-0.3866, -0.4454, -0.3520, -0.2962,  0.1252,  1.0048],\n",
      "         [-0.1894, -0.3751,  0.4041,  0.0230,  0.1857,  0.4384],\n",
      "         [-2.5491, -1.2631, -0.3263, -2.9519,  0.4868, -3.5097]],\n",
      "\n",
      "        [[ 2.0610, -3.0512, -3.9468, -2.1093, -3.5609,  3.2561],\n",
      "         [ 0.3398, -0.7341, -0.4016, -3.5596, -0.9025, -3.4295],\n",
      "         [ 3.9330,  0.8446,  4.8240, -2.1667,  1.8793, -1.6427]]])\n"
     ]
    }
   ],
   "source": [
    "#batched_matrix x batched_matrix\n",
    "tensor1 = torch.randn(2, 3, 4)\n",
    "tensor2 = torch.randn(2, 4, 6)\n",
    "tensor_mul = torch.matmul(tensor1, tensor2)\n",
    "print(tensor1)\n",
    "print(tensor2)\n",
    "print(tensor_mul)"
   ]
  },
  {
   "cell_type": "code",
   "execution_count": 25,
   "id": "de53daaf-fd40-4872-b390-665d66d392f6",
   "metadata": {
    "tags": []
   },
   "outputs": [
    {
     "name": "stdout",
     "output_type": "stream",
     "text": [
      "tensor([[1., 0., 0.],\n",
      "        [0., 1., 0.],\n",
      "        [0., 0., 1.]])\n",
      "tensor([[ 0.5300,  1.1512, -2.3656],\n",
      "        [-1.3649,  0.6012,  1.4101],\n",
      "        [-0.1379,  0.6712,  1.1088]])\n",
      "tensor([[-0.0837, -0.8572,  0.9115],\n",
      "        [ 0.3948,  0.0783,  0.7427],\n",
      "        [-0.2494, -0.1540,  0.5656]])\n"
     ]
    }
   ],
   "source": [
    "#Matrix Exponentiation\n",
    "A = torch.randn(3,3)\n",
    "Pow_A = torch.linalg.matrix_power(A,0)\n",
    "print(Pow_A)\n",
    "Pow_A = torch.linalg.matrix_power(A,1)\n",
    "print(Pow_A)\n",
    "Pow_A = torch.linalg.matrix_power(A,-1)\n",
    "print(Pow_A)"
   ]
  },
  {
   "cell_type": "code",
   "execution_count": 27,
   "id": "c6f3518e-cce6-4a91-be0e-5e0908e7fff8",
   "metadata": {
    "tags": []
   },
   "outputs": [
    {
     "name": "stdout",
     "output_type": "stream",
     "text": [
      "tensor([[-0.6930,  2.7602,  0.4615],\n",
      "        [-0.7028, -0.2396,  0.6510],\n",
      "        [ 1.1072,  0.8006, -0.5818],\n",
      "        [ 0.2106, -0.8486,  0.5150]])\n",
      "tensor([[1., 1., 1.],\n",
      "        [1., 1., 1.],\n",
      "        [1., 1., 1.],\n",
      "        [1., 1., 1.]])\n",
      "tensor([ 2.5287, -0.2914,  1.3260, -0.1230])\n"
     ]
    }
   ],
   "source": [
    "#Dot product\n",
    "A = torch.randn(4,3)\n",
    "B = torch.ones(4,3)\n",
    "C = torch.linalg.vecdot(A,B)\n",
    "print(A)\n",
    "print(B)\n",
    "print(C)"
   ]
  },
  {
   "cell_type": "code",
   "execution_count": null,
   "id": "c2eebfff-92be-49f1-a158-e362e5ca8503",
   "metadata": {},
   "outputs": [],
   "source": []
  }
 ],
 "metadata": {
  "kernelspec": {
   "display_name": "Python 3 (ipykernel)",
   "language": "python",
   "name": "python3"
  },
  "language_info": {
   "codemirror_mode": {
    "name": "ipython",
    "version": 3
   },
   "file_extension": ".py",
   "mimetype": "text/x-python",
   "name": "python",
   "nbconvert_exporter": "python",
   "pygments_lexer": "ipython3",
   "version": "3.9.0"
  }
 },
 "nbformat": 4,
 "nbformat_minor": 5
}
